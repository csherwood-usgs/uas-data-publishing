{
 "cells": [
  {
   "cell_type": "markdown",
   "metadata": {},
   "source": [
    "# Import packages"
   ]
  },
  {
   "cell_type": "code",
   "execution_count": 1,
   "metadata": {
    "collapsed": true
   },
   "outputs": [],
   "source": [
    "import matplotlib.pyplot as plt\n",
    "import numpy as np\n",
    "import os\n",
    "from scipy.interpolate import interp1d\n",
    "from PIL import Image, ExifTags\n",
    "# import datetime as dt\n",
    "import pytz\n",
    "from datetime import datetime as DT\n",
    "import pandas as pd\n",
    "from lxml import etree\n",
    "from dateutil import parser"
   ]
  },
  {
   "cell_type": "markdown",
   "metadata": {},
   "source": [
    "### Input variables"
   ]
  },
  {
   "cell_type": "code",
   "execution_count": 2,
   "metadata": {
    "collapsed": true
   },
   "outputs": [],
   "source": [
    "# unique to local files:\n",
    "homedir = r'/Users/emilysturdivant/Desktop/uas_data'\n",
    "logfile = os.path.join(homedir, 'f8.gpx')\n",
    "imagefolder = os.path.join(homedir, 'f8')\n",
    "\n",
    "# Standard:\n",
    "namespace = {'def': 'http://www.topografix.com/GPX/1/1'}\n",
    "tfmt_exif = '%Y:%m:%d %H:%M:%S' #2017-05-04T14:14:12-04:00\n",
    "tfmt_gpx = '%Y-%m-%dT%H:%M:%S-04:00' #2017-05-04T14:14:12-04:00\n",
    "iso_fmt=\"%Y%m%dT%H%M%SZ\"\n",
    "\n",
    "# Mission info\n",
    "survey_id = '2016-010FA'\n",
    "uas_id = 'u031'\n",
    "fc_id = 'f04r01'"
   ]
  },
  {
   "cell_type": "markdown",
   "metadata": {},
   "source": [
    "### Functions"
   ]
  },
  {
   "cell_type": "code",
   "execution_count": 3,
   "metadata": {
    "collapsed": true
   },
   "outputs": [],
   "source": [
    "def dt_to_UTCval(dtstr, fmt, local_tz='US/Eastern'):\n",
    "    time = (pytz.timezone(local_tz).localize(DT.strptime(e.text, tfmt_gpx), is_dst=None)\n",
    "                                .astimezone(pytz.utc)\n",
    "                                .timestamp())\n",
    "    return(time)\n",
    "\n",
    "def gpx_tag_to_pdseries(tree, namespace, tag):\n",
    "    elist = tree.xpath('./def:trk//def:trkpt//def:'+tag, namespaces=namespace)\n",
    "    ser = pd.Series([e.text for e in elist], name=tag)\n",
    "    return(ser)"
   ]
  },
  {
   "cell_type": "markdown",
   "metadata": {},
   "source": [
    "### Parse GPX and extract components into dataframe"
   ]
  },
  {
   "cell_type": "code",
   "execution_count": 4,
   "metadata": {
    "scrolled": true
   },
   "outputs": [
    {
     "name": "stdout",
     "output_type": "stream",
     "text": [
      "[datetime.datetime(2017, 6, 13, 10, 38, 22, tzinfo=tzoffset(None, -14400)), datetime.datetime(2017, 6, 13, 10, 38, 22, tzinfo=tzoffset(None, -14400)), datetime.datetime(2017, 6, 13, 10, 38, 22, tzinfo=tzoffset(None, -14400)), datetime.datetime(2017, 6, 13, 10, 38, 23, tzinfo=tzoffset(None, -14400))]\n",
      "[datetime.datetime(2017, 6, 13, 14, 38, 22, tzinfo=<UTC>), datetime.datetime(2017, 6, 13, 14, 38, 22, tzinfo=<UTC>), datetime.datetime(2017, 6, 13, 14, 38, 22, tzinfo=<UTC>), datetime.datetime(2017, 6, 13, 14, 38, 23, tzinfo=<UTC>)]\n"
     ]
    },
    {
     "data": {
      "text/html": [
       "<div>\n",
       "<style>\n",
       "    .dataframe thead tr:only-child th {\n",
       "        text-align: right;\n",
       "    }\n",
       "\n",
       "    .dataframe thead th {\n",
       "        text-align: left;\n",
       "    }\n",
       "\n",
       "    .dataframe tbody tr th {\n",
       "        vertical-align: top;\n",
       "    }\n",
       "</style>\n",
       "<table border=\"1\" class=\"dataframe\">\n",
       "  <thead>\n",
       "    <tr style=\"text-align: right;\">\n",
       "      <th></th>\n",
       "      <th>lat</th>\n",
       "      <th>lon</th>\n",
       "      <th>ele</th>\n",
       "      <th>ele2</th>\n",
       "      <th>course</th>\n",
       "      <th>roll</th>\n",
       "      <th>pitch</th>\n",
       "      <th>mode</th>\n",
       "      <th>time_epoch</th>\n",
       "      <th>time_utc</th>\n",
       "    </tr>\n",
       "  </thead>\n",
       "  <tbody>\n",
       "    <tr>\n",
       "      <th>0</th>\n",
       "      <td>36.1819669</td>\n",
       "      <td>-75.7515419</td>\n",
       "      <td>-6.01</td>\n",
       "      <td>0</td>\n",
       "      <td>0</td>\n",
       "      <td>0</td>\n",
       "      <td>0</td>\n",
       "      <td>Loiter</td>\n",
       "      <td>1.497365e+09</td>\n",
       "      <td>2017-06-13 14:38:22+00:00</td>\n",
       "    </tr>\n",
       "    <tr>\n",
       "      <th>1</th>\n",
       "      <td>36.1819669</td>\n",
       "      <td>-75.7515419</td>\n",
       "      <td>-6.92</td>\n",
       "      <td>0.07</td>\n",
       "      <td>0</td>\n",
       "      <td>0</td>\n",
       "      <td>0</td>\n",
       "      <td>Loiter</td>\n",
       "      <td>1.497365e+09</td>\n",
       "      <td>2017-06-13 14:38:22+00:00</td>\n",
       "    </tr>\n",
       "    <tr>\n",
       "      <th>2</th>\n",
       "      <td>36.1819671</td>\n",
       "      <td>-75.7515419</td>\n",
       "      <td>-6.9</td>\n",
       "      <td>0.09</td>\n",
       "      <td>42.36301</td>\n",
       "      <td>-0.2109267</td>\n",
       "      <td>1.303254</td>\n",
       "      <td>Loiter</td>\n",
       "      <td>1.497365e+09</td>\n",
       "      <td>2017-06-13 14:38:22+00:00</td>\n",
       "    </tr>\n",
       "    <tr>\n",
       "      <th>3</th>\n",
       "      <td>36.1819672</td>\n",
       "      <td>-75.7515419</td>\n",
       "      <td>-6.89</td>\n",
       "      <td>0.1</td>\n",
       "      <td>42.36145</td>\n",
       "      <td>-0.1979842</td>\n",
       "      <td>1.311603</td>\n",
       "      <td>Loiter</td>\n",
       "      <td>1.497365e+09</td>\n",
       "      <td>2017-06-13 14:38:23+00:00</td>\n",
       "    </tr>\n",
       "    <tr>\n",
       "      <th>4</th>\n",
       "      <td>36.1819673</td>\n",
       "      <td>-75.7515419</td>\n",
       "      <td>-6.89</td>\n",
       "      <td>0.1</td>\n",
       "      <td>42.36665</td>\n",
       "      <td>-0.1992989</td>\n",
       "      <td>1.30895</td>\n",
       "      <td>Loiter</td>\n",
       "      <td>1.497365e+09</td>\n",
       "      <td>2017-06-13 14:38:23+00:00</td>\n",
       "    </tr>\n",
       "  </tbody>\n",
       "</table>\n",
       "</div>"
      ],
      "text/plain": [
       "          lat          lon    ele  ele2    course        roll     pitch  \\\n",
       "0  36.1819669  -75.7515419  -6.01     0         0           0         0   \n",
       "1  36.1819669  -75.7515419  -6.92  0.07         0           0         0   \n",
       "2  36.1819671  -75.7515419   -6.9  0.09  42.36301  -0.2109267  1.303254   \n",
       "3  36.1819672  -75.7515419  -6.89   0.1  42.36145  -0.1979842  1.311603   \n",
       "4  36.1819673  -75.7515419  -6.89   0.1  42.36665  -0.1992989   1.30895   \n",
       "\n",
       "     mode    time_epoch                  time_utc  \n",
       "0  Loiter  1.497365e+09 2017-06-13 14:38:22+00:00  \n",
       "1  Loiter  1.497365e+09 2017-06-13 14:38:22+00:00  \n",
       "2  Loiter  1.497365e+09 2017-06-13 14:38:22+00:00  \n",
       "3  Loiter  1.497365e+09 2017-06-13 14:38:23+00:00  \n",
       "4  Loiter  1.497365e+09 2017-06-13 14:38:23+00:00  "
      ]
     },
     "execution_count": 4,
     "metadata": {},
     "output_type": "execute_result"
    }
   ],
   "source": [
    "# Parse GPX and extract components into dataframe\n",
    "tree = etree.parse(logfile)\n",
    "\n",
    "# latitude and longitude\n",
    "elist = tree.xpath('./def:trk//def:trkpt',namespaces=namespace)\n",
    "gpxdf = pd.DataFrame([e.values() for e in elist], columns=['lat', 'lon'])\n",
    "\n",
    "# all other tags\n",
    "taglist = ['ele', 'ele2', 'course', 'roll', 'pitch', 'mode']\n",
    "for tag in taglist:\n",
    "    gpxdf = gpxdf.join(gpx_tag_to_pdseries(tree, namespace, tag))\n",
    "\n",
    "# time\n",
    "tag = 'time'\n",
    "elist = tree.xpath('./def:trk//def:trkpt//def:'+tag, namespaces=namespace)\n",
    "dt = [parser.parse(e.text) for e in elist] # parser will detect time zones\n",
    "print(dt[:4])\n",
    "dtz = [dti.astimezone(pytz.utc) for dti in dt]\n",
    "print(dtz[:4])\n",
    "# dtz = [time.mktime(dti.utctimetuple()) for dti in dt]\n",
    "gpxdf = gpxdf.join(pd.DataFrame({'time_utc':dtz, 'time_epoch': [t.timestamp() for t in dtz]}))\n",
    "# dtz = [pytz.timezone(local_tz).localize(DT.strptime(e.text, tfmt_gpx), is_dst=None).astimezone(pytz.utc) for e in elist]\n",
    "# t = [dt.timestamp() for dt in img_dt]\n",
    "# gpxdf = gpxdf.join(pd.DataFrame({'time_utc':dtz, 'time_epoch': [t.timestamp() for t in dt]}))\n",
    "\n",
    "gpxdf.head()"
   ]
  },
  {
   "cell_type": "markdown",
   "metadata": {},
   "source": [
    "#### Export CSV"
   ]
  },
  {
   "cell_type": "code",
   "execution_count": 5,
   "metadata": {
    "collapsed": true
   },
   "outputs": [],
   "source": [
    "# Export CSV: logfile_gpx.csv stored in same folder as logfile\n",
    "gpxdf.to_csv(os.path.splitext(logfile)[0]+'_gpx.csv', index=False)"
   ]
  },
  {
   "cell_type": "code",
   "execution_count": 6,
   "metadata": {},
   "outputs": [
    {
     "data": {
      "image/png": "[encoded data removed]",
      "text/plain": [
       "<matplotlib.figure.Figure at 0x11f04f860>"
      ]
     },
     "metadata": {},
     "output_type": "display_data"
    }
   ],
   "source": [
    "#%% PLOT!\n",
    "plt.plot(gpxdf.lat,gpxdf.lon,'.')\n",
    "plt.show()"
   ]
  },
  {
   "cell_type": "markdown",
   "metadata": {},
   "source": [
    "## Work with images\n",
    "Replace original images because this will consider current filenames \"original\" and will replace. "
   ]
  },
  {
   "cell_type": "code",
   "execution_count": 7,
   "metadata": {},
   "outputs": [
    {
     "name": "stdout",
     "output_type": "stream",
     "text": [
      "Found 188 images in /Users/emilysturdivant/Desktop/uas_data/f8.\n"
     ]
    },
    {
     "data": {
      "text/html": [
       "<div>\n",
       "<style>\n",
       "    .dataframe thead tr:only-child th {\n",
       "        text-align: right;\n",
       "    }\n",
       "\n",
       "    .dataframe thead th {\n",
       "        text-align: left;\n",
       "    }\n",
       "\n",
       "    .dataframe tbody tr th {\n",
       "        vertical-align: top;\n",
       "    }\n",
       "</style>\n",
       "<table border=\"1\" class=\"dataframe\">\n",
       "  <thead>\n",
       "    <tr style=\"text-align: right;\">\n",
       "      <th></th>\n",
       "      <th>new_name</th>\n",
       "      <th>orig_name</th>\n",
       "      <th>time_epoch</th>\n",
       "      <th>time_iso</th>\n",
       "      <th>time_utc</th>\n",
       "    </tr>\n",
       "  </thead>\n",
       "  <tbody>\n",
       "    <tr>\n",
       "      <th>0</th>\n",
       "      <td>NaN</td>\n",
       "      <td>2016-010FA_u031_f04r01_20170613T143454Z_B00090...</td>\n",
       "      <td>1.497364e+09</td>\n",
       "      <td>20170613T143454Z</td>\n",
       "      <td>2017-06-13 14:34:54+00:00</td>\n",
       "    </tr>\n",
       "    <tr>\n",
       "      <th>1</th>\n",
       "      <td>NaN</td>\n",
       "      <td>2016-010FA_u031_f04r01_20170613T144248Z_B00091...</td>\n",
       "      <td>1.497365e+09</td>\n",
       "      <td>20170613T144248Z</td>\n",
       "      <td>2017-06-13 14:42:48+00:00</td>\n",
       "    </tr>\n",
       "    <tr>\n",
       "      <th>2</th>\n",
       "      <td>NaN</td>\n",
       "      <td>2016-010FA_u031_f04r01_20170613T144250Z_B00091...</td>\n",
       "      <td>1.497365e+09</td>\n",
       "      <td>20170613T144250Z</td>\n",
       "      <td>2017-06-13 14:42:50+00:00</td>\n",
       "    </tr>\n",
       "    <tr>\n",
       "      <th>3</th>\n",
       "      <td>NaN</td>\n",
       "      <td>2016-010FA_u031_f04r01_20170613T144252Z_B00091...</td>\n",
       "      <td>1.497365e+09</td>\n",
       "      <td>20170613T144252Z</td>\n",
       "      <td>2017-06-13 14:42:52+00:00</td>\n",
       "    </tr>\n",
       "    <tr>\n",
       "      <th>4</th>\n",
       "      <td>NaN</td>\n",
       "      <td>2016-010FA_u031_f04r01_20170613T144254Z_B00091...</td>\n",
       "      <td>1.497365e+09</td>\n",
       "      <td>20170613T144254Z</td>\n",
       "      <td>2017-06-13 14:42:54+00:00</td>\n",
       "    </tr>\n",
       "  </tbody>\n",
       "</table>\n",
       "</div>"
      ],
      "text/plain": [
       "   new_name                                          orig_name    time_epoch  \\\n",
       "0       NaN  2016-010FA_u031_f04r01_20170613T143454Z_B00090...  1.497364e+09   \n",
       "1       NaN  2016-010FA_u031_f04r01_20170613T144248Z_B00091...  1.497365e+09   \n",
       "2       NaN  2016-010FA_u031_f04r01_20170613T144250Z_B00091...  1.497365e+09   \n",
       "3       NaN  2016-010FA_u031_f04r01_20170613T144252Z_B00091...  1.497365e+09   \n",
       "4       NaN  2016-010FA_u031_f04r01_20170613T144254Z_B00091...  1.497365e+09   \n",
       "\n",
       "           time_iso                  time_utc  \n",
       "0  20170613T143454Z 2017-06-13 14:34:54+00:00  \n",
       "1  20170613T144248Z 2017-06-13 14:42:48+00:00  \n",
       "2  20170613T144250Z 2017-06-13 14:42:50+00:00  \n",
       "3  20170613T144252Z 2017-06-13 14:42:52+00:00  \n",
       "4  20170613T144254Z 2017-06-13 14:42:54+00:00  "
      ]
     },
     "execution_count": 7,
     "metadata": {},
     "output_type": "execute_result"
    }
   ],
   "source": [
    "# List all JPEGS in imagefolder\n",
    "flist=[os.path.join(imagefolder,f) for f in os.listdir(imagefolder) if f.endswith('.jpg') or f.endswith('.JPG')]\n",
    "print(\"Found {} images in {}.\".format(len(flist),imagefolder))\n",
    "\n",
    "# Get filename and DateTimeOriginal of each photo\n",
    "#FIXME: how to get tzinfo from EXIF? Looks like these were recorded in UTC...\n",
    "dt = [pytz.utc.localize(DT.strptime(Image.open(f)._getexif()[36867], tfmt_exif)) for f in flist] # make timezone aware (UTC) for later comparison with GPX times\n",
    "imgdf = pd.DataFrame({'orig_name': [os.path.basename(f) for f in flist],\n",
    "                      'time_utc': dt,\n",
    "                      'time_epoch': [t.timestamp() for t in dt],\n",
    "                      'time_iso': [t.strftime(iso_fmt) for t in dt],\n",
    "                      'new_name': np.nan})\n",
    "imgdf.head()"
   ]
  },
  {
   "cell_type": "code",
   "execution_count": 8,
   "metadata": {
    "collapsed": true
   },
   "outputs": [],
   "source": [
    "# Export CSV\n",
    "imgdf.to_csv(imagefolder+'_stage1.csv', index=False)"
   ]
  },
  {
   "cell_type": "code",
   "execution_count": 9,
   "metadata": {},
   "outputs": [
    {
     "name": "stdout",
     "output_type": "stream",
     "text": [
      "First... file: 2016-010FA_u031_f04r01_20170613T143454Z_B0009085.JPG, time: 2017-06-13 14:34:54+00:00\n",
      "Last... file: 2016-010FA_u031_f04r01_20170613T144900Z_B0009316.JPG, time: 2017-06-13 14:49:00+00:00\n",
      "/Users/emilysturdivant/Desktop/uas_data/f8.gpx from 2017-06-13 14:38:22+00:00 to 2017-06-13 14:55:08+00:00\n"
     ]
    }
   ],
   "source": [
    "# print first and last image name and times\n",
    "print(\"First... file: {}, time: {}\".format(imgdf.orig_name.iloc[0],imgdf.time_utc.iloc[0]))\n",
    "print(\"Last... file: {}, time: {}\".format(imgdf.orig_name.iloc[-1],imgdf.time_utc.iloc[-1]))\n",
    "# print first and last times in .gpx file\n",
    "print(\"{} from {} to {}\".format(logfile, gpxdf.time_utc.iloc[0],gpxdf.time_utc.iloc[-1]))"
   ]
  },
  {
   "cell_type": "markdown",
   "metadata": {},
   "source": [
    "### Rename photos"
   ]
  },
  {
   "cell_type": "code",
   "execution_count": 10,
   "metadata": {
    "scrolled": true
   },
   "outputs": [],
   "source": [
    "# Rename photos\n",
    "#TODO move/copy them first? / don't run if the names have already been changed...\n",
    "for idx, row in imgdf.iterrows():\n",
    "    img = row.orig_name\n",
    "    new_name = \"{}_{}_{}_{}_{}\".format(survey_id, uas_id, fc_id, row.time_iso, img) # ->\n",
    "    os.rename(os.path.join(imagefolder, img), os.path.join(imagefolder, new_name))\n",
    "#     imgdf.new_name.loc[idx] = new_name\n"
   ]
  },
  {
   "cell_type": "markdown",
   "metadata": {},
   "source": [
    "# More direct from Sherwood interp:"
   ]
  },
  {
   "cell_type": "markdown",
   "metadata": {},
   "source": [
    "### Interpolation from Sherwood, modified to DF inputs"
   ]
  },
  {
   "cell_type": "code",
   "execution_count": 11,
   "metadata": {},
   "outputs": [
    {
     "name": "stdout",
     "output_type": "stream",
     "text": [
      "1497364494.0 1497364702.0 1497365708.0\n",
      "No GPS data for 1 images out of 188\n"
     ]
    }
   ],
   "source": [
    "# Convert to NP formats and combine .gpx data into array\n",
    "data = np.zeros((3,(len(gpxdf.lat))))\n",
    "data[0,:]=gpxdf.lat\n",
    "data[1,:]=gpxdf.lon\n",
    "data[2,:]=gpxdf.ele\n",
    "\n",
    "dn = np.array(gpxdf.time_epoch)\n",
    "img_dn = np.array(imgdf.time_epoch)\n",
    "img_name = np.array(imgdf.orig_name)\n",
    "\n",
    "# set up interpolation\n",
    "set_interp = interp1d(dn, data, kind='linear')\n",
    "\n",
    "# array for storing lat, lon, and elevation for each image\n",
    "img_nogps = []\n",
    "img_data = np.ones((3, len(img_name)))*np.nan\n",
    "for i in range(len(img_name)):\n",
    "    if(img_dn[i]>=dn[0] and img_dn[i]<=dn[-1]):\n",
    "        # image time is within bounds of .gpx data\n",
    "        img_data[:,i] = set_interp(img_dn[i])\n",
    "    else:\n",
    "        # image time is not within .gpx data\n",
    "        img_nogps.append(img_name[i])\n",
    "        print(img_dn[i], dn[0], dn[-1])\n",
    "        \n",
    "print('No GPS data for {} images out of {}'.format(len(img_nogps), len(img_name)))"
   ]
  },
  {
   "cell_type": "code",
   "execution_count": 12,
   "metadata": {},
   "outputs": [],
   "source": [
    "# Convert to NP formats and combine .gpx data into array\n",
    "data = np.zeros((3,(len(gpxdf.lat))))\n",
    "data[0,:]=gpxdf.lat\n",
    "data[1,:]=gpxdf.lon\n",
    "data[2,:]=gpxdf.ele\n",
    "\n",
    "dn = np.array(gpxdf.time_utc)\n",
    "img_dn = np.array(imgdf.time_utc)\n",
    "img_name = np.array(imgdf.orig_name)"
   ]
  },
  {
   "cell_type": "code",
   "execution_count": 15,
   "metadata": {},
   "outputs": [
    {
     "name": "stdout",
     "output_type": "stream",
     "text": [
      "GPS start: 2017-06-13 14:38:22+00:00\n",
      "GPS end: 2017-06-13 14:55:08+00:00\n"
     ]
    },
    {
     "data": {
      "text/html": [
       "<div>\n",
       "<style>\n",
       "    .dataframe thead tr:only-child th {\n",
       "        text-align: right;\n",
       "    }\n",
       "\n",
       "    .dataframe thead th {\n",
       "        text-align: left;\n",
       "    }\n",
       "\n",
       "    .dataframe tbody tr th {\n",
       "        vertical-align: top;\n",
       "    }\n",
       "</style>\n",
       "<table border=\"1\" class=\"dataframe\">\n",
       "  <thead>\n",
       "    <tr style=\"text-align: right;\">\n",
       "      <th></th>\n",
       "      <th>lat</th>\n",
       "      <th>lon</th>\n",
       "      <th>ele</th>\n",
       "      <th>ele2</th>\n",
       "      <th>course</th>\n",
       "      <th>roll</th>\n",
       "      <th>pitch</th>\n",
       "      <th>mode</th>\n",
       "      <th>time_epoch</th>\n",
       "      <th>time_utc</th>\n",
       "    </tr>\n",
       "  </thead>\n",
       "  <tbody>\n",
       "    <tr>\n",
       "      <th>1041</th>\n",
       "      <td>36.1819936</td>\n",
       "      <td>-75.7515427</td>\n",
       "      <td>-7.1</td>\n",
       "      <td>0.13</td>\n",
       "      <td>32.70589</td>\n",
       "      <td>-0.3473826</td>\n",
       "      <td>1.046628</td>\n",
       "      <td>Loiter</td>\n",
       "      <td>1.497365e+09</td>\n",
       "      <td>2017-06-13 14:42:48+00:00</td>\n",
       "    </tr>\n",
       "    <tr>\n",
       "      <th>1042</th>\n",
       "      <td>36.1819935</td>\n",
       "      <td>-75.7515427</td>\n",
       "      <td>-7.1</td>\n",
       "      <td>0.13</td>\n",
       "      <td>32.72327</td>\n",
       "      <td>-0.334433</td>\n",
       "      <td>1.036898</td>\n",
       "      <td>Loiter</td>\n",
       "      <td>1.497365e+09</td>\n",
       "      <td>2017-06-13 14:42:48+00:00</td>\n",
       "    </tr>\n",
       "    <tr>\n",
       "      <th>1043</th>\n",
       "      <td>36.1819934</td>\n",
       "      <td>-75.7515428</td>\n",
       "      <td>-7.1</td>\n",
       "      <td>0.13</td>\n",
       "      <td>32.71679</td>\n",
       "      <td>-0.3511682</td>\n",
       "      <td>1.020996</td>\n",
       "      <td>Loiter</td>\n",
       "      <td>1.497365e+09</td>\n",
       "      <td>2017-06-13 14:42:48+00:00</td>\n",
       "    </tr>\n",
       "    <tr>\n",
       "      <th>1044</th>\n",
       "      <td>36.1819933</td>\n",
       "      <td>-75.7515428</td>\n",
       "      <td>-7.09</td>\n",
       "      <td>0.14</td>\n",
       "      <td>32.72688</td>\n",
       "      <td>-0.385768</td>\n",
       "      <td>1.032633</td>\n",
       "      <td>Loiter</td>\n",
       "      <td>1.497365e+09</td>\n",
       "      <td>2017-06-13 14:42:48+00:00</td>\n",
       "    </tr>\n",
       "    <tr>\n",
       "      <th>1045</th>\n",
       "      <td>36.1819933</td>\n",
       "      <td>-75.7515429</td>\n",
       "      <td>-7.09</td>\n",
       "      <td>0.14</td>\n",
       "      <td>32.73014</td>\n",
       "      <td>-0.3838604</td>\n",
       "      <td>1.036255</td>\n",
       "      <td>Loiter</td>\n",
       "      <td>1.497365e+09</td>\n",
       "      <td>2017-06-13 14:42:48+00:00</td>\n",
       "    </tr>\n",
       "  </tbody>\n",
       "</table>\n",
       "</div>"
      ],
      "text/plain": [
       "             lat          lon    ele  ele2    course        roll     pitch  \\\n",
       "1041  36.1819936  -75.7515427   -7.1  0.13  32.70589  -0.3473826  1.046628   \n",
       "1042  36.1819935  -75.7515427   -7.1  0.13  32.72327   -0.334433  1.036898   \n",
       "1043  36.1819934  -75.7515428   -7.1  0.13  32.71679  -0.3511682  1.020996   \n",
       "1044  36.1819933  -75.7515428  -7.09  0.14  32.72688   -0.385768  1.032633   \n",
       "1045  36.1819933  -75.7515429  -7.09  0.14  32.73014  -0.3838604  1.036255   \n",
       "\n",
       "        mode    time_epoch                  time_utc  \n",
       "1041  Loiter  1.497365e+09 2017-06-13 14:42:48+00:00  \n",
       "1042  Loiter  1.497365e+09 2017-06-13 14:42:48+00:00  \n",
       "1043  Loiter  1.497365e+09 2017-06-13 14:42:48+00:00  \n",
       "1044  Loiter  1.497365e+09 2017-06-13 14:42:48+00:00  \n",
       "1045  Loiter  1.497365e+09 2017-06-13 14:42:48+00:00  "
      ]
     },
     "execution_count": 15,
     "metadata": {},
     "output_type": "execute_result"
    }
   ],
   "source": [
    "# Datetime objects can be compared, but both need to be either tz-aware or unaware.\n",
    "timecol = 'time_utc'\n",
    "start_gpxtime = gpxdf[timecol].min()\n",
    "end_gpxtime = gpxdf[timecol].max()\n",
    "print('GPS start: {}\\nGPS end: {}'.format(start_gpxtime, end_gpxtime))\n",
    "# tooearly = imgdf[timecol] <= start_gpxtime\n",
    "# toolate = imgdf[timecol] >= end_gpxtime\n",
    "\n",
    "# # use where to find image times within bounds of gps times\n",
    "# ser = imgdf[timecol]\n",
    "# ser.where(ser >= start_gpxtime and ser <= start_gpxtime, np.nan)\n",
    "# try this?\n",
    "matches = gpxdf[gpxdf.time_epoch.isin(imgdf.time_epoch)] # All rows in df1 that have a match in df2.\n",
    "matches.head()"
   ]
  },
  {
   "cell_type": "code",
   "execution_count": 20,
   "metadata": {
    "scrolled": true
   },
   "outputs": [
    {
     "name": "stdout",
     "output_type": "stream",
     "text": [
      "Image 2016-010FA_u031_f04r01_20170613T143454Z_B0009085.JPG not acquired between 1497364702.0 and 1497365708.0\n",
      "           0          1     2\n",
      "0        NaN        NaN   NaN\n",
      "1  36.181993 -75.751543 -7.09\n",
      "2  36.181993 -75.751543 -7.05\n",
      "3  36.181992 -75.751543 -7.00\n",
      "4  36.181992 -75.751543 -1.12\n",
      "   new_name                                          orig_name    time_epoch  \\\n",
      "0       NaN  2016-010FA_u031_f04r01_20170613T143454Z_B00090...  1.497364e+09   \n",
      "1       NaN  2016-010FA_u031_f04r01_20170613T144248Z_B00091...  1.497365e+09   \n",
      "2       NaN  2016-010FA_u031_f04r01_20170613T144250Z_B00091...  1.497365e+09   \n",
      "3       NaN  2016-010FA_u031_f04r01_20170613T144252Z_B00091...  1.497365e+09   \n",
      "4       NaN  2016-010FA_u031_f04r01_20170613T144254Z_B00091...  1.497365e+09   \n",
      "\n",
      "           time_iso                  time_utc        lat        lon    ele  \n",
      "0  20170613T143454Z 2017-06-13 14:34:54+00:00  36.186037 -75.752665  92.79  \n",
      "1  20170613T144248Z 2017-06-13 14:42:48+00:00  36.186037 -75.752665  92.79  \n",
      "2  20170613T144250Z 2017-06-13 14:42:50+00:00  36.186037 -75.752665  92.79  \n",
      "3  20170613T144252Z 2017-06-13 14:42:52+00:00  36.186037 -75.752665  92.79  \n",
      "4  20170613T144254Z 2017-06-13 14:42:54+00:00  36.186037 -75.752665  92.79  \n"
     ]
    }
   ],
   "source": [
    "# try loop with DF operations\n",
    "timecol = 'time_epoch'\n",
    "start_gpxtime = gpxdf[timecol].min()\n",
    "end_gpxtime = gpxdf[timecol].max()\n",
    "\n",
    "# loop through the images and interpolate .gpx data\n",
    "img_nogps = []\n",
    "img_data = np.ones((3, len(img_name)))*np.nan\n",
    "for idx, row in imgdf.iterrows():\n",
    "    img_tznum = row[timecol]\n",
    "    if img_tznum >= start_gpxtime and img_tznum <= end_gpxtime:\n",
    "        [lat, lon, ele] = set_interp(img_tznum)\n",
    "        imgdf['lat'] = lat\n",
    "        imgdf['lon'] = lon\n",
    "        imgdf['ele'] = ele\n",
    "        img_data[:,idx] = set_interp(img_tznum)\n",
    "    else: # image time is not within .gpx data\n",
    "        img_nogps.append(row.orig_name)\n",
    "        print('Image {} not acquired between {} and {}'.format(row.orig_name, start_gpxtime, end_gpxtime))\n",
    "        \n",
    "img_datadf = pd.DataFrame(img_data).transpose()\n",
    "print(img_datadf.head())\n",
    "print(imgdf.head())"
   ]
  },
  {
   "cell_type": "code",
   "execution_count": 18,
   "metadata": {},
   "outputs": [
    {
     "data": {
      "image/png": "[encoded data removed]",
      "text/plain": [
       "<matplotlib.figure.Figure at 0x11f591ba8>"
      ]
     },
     "metadata": {},
     "output_type": "display_data"
    },
    {
     "ename": "NameError",
     "evalue": "name 'img_dt' is not defined",
     "output_type": "error",
     "traceback": [
      "\u001b[0;31m---------------------------------------------------------------------------\u001b[0m",
      "\u001b[0;31mNameError\u001b[0m                                 Traceback (most recent call last)",
      "\u001b[0;32m<ipython-input-18-26b77138853a>\u001b[0m in \u001b[0;36m<module>\u001b[0;34m()\u001b[0m\n\u001b[1;32m      6\u001b[0m \u001b[0;31m# TODO - write a .csv file with columns in the in the correct order for Photoscan\u001b[0m\u001b[0;34m\u001b[0m\u001b[0;34m\u001b[0m\u001b[0m\n\u001b[1;32m      7\u001b[0m \u001b[0;32mfor\u001b[0m \u001b[0mi\u001b[0m \u001b[0;32min\u001b[0m \u001b[0mrange\u001b[0m\u001b[0;34m(\u001b[0m\u001b[0;36m10\u001b[0m\u001b[0;34m)\u001b[0m\u001b[0;34m:\u001b[0m\u001b[0;34m\u001b[0m\u001b[0m\n\u001b[0;32m----> 8\u001b[0;31m     \u001b[0mprint\u001b[0m\u001b[0;34m(\u001b[0m\u001b[0;34m\"{}, {}, {}, {}\"\u001b[0m\u001b[0;34m.\u001b[0m\u001b[0mformat\u001b[0m\u001b[0;34m(\u001b[0m\u001b[0mimg_name\u001b[0m\u001b[0;34m[\u001b[0m\u001b[0mi\u001b[0m\u001b[0;34m]\u001b[0m\u001b[0;34m,\u001b[0m\u001b[0mimg_dt\u001b[0m\u001b[0;34m[\u001b[0m\u001b[0mi\u001b[0m\u001b[0;34m]\u001b[0m\u001b[0;34m,\u001b[0m\u001b[0mimg_data\u001b[0m\u001b[0;34m[\u001b[0m\u001b[0;36m0\u001b[0m\u001b[0;34m,\u001b[0m\u001b[0mi\u001b[0m\u001b[0;34m]\u001b[0m\u001b[0;34m,\u001b[0m\u001b[0mimg_data\u001b[0m\u001b[0;34m[\u001b[0m\u001b[0;36m1\u001b[0m\u001b[0;34m,\u001b[0m\u001b[0mi\u001b[0m\u001b[0;34m]\u001b[0m\u001b[0;34m,\u001b[0m\u001b[0mimg_data\u001b[0m\u001b[0;34m[\u001b[0m\u001b[0;36m2\u001b[0m\u001b[0;34m,\u001b[0m\u001b[0mi\u001b[0m\u001b[0;34m]\u001b[0m\u001b[0;34m)\u001b[0m\u001b[0;34m)\u001b[0m\u001b[0;34m\u001b[0m\u001b[0m\n\u001b[0m",
      "\u001b[0;31mNameError\u001b[0m: name 'img_dt' is not defined"
     ]
    }
   ],
   "source": [
    "# make a bare-bones trackline and overlay image locations, sherwood direct\n",
    "plt.plot(imgdf.lon, imgdf.lat,'-')\n",
    "plt.plot(gpxdf.lon, gpxdf.lon,'.r')\n",
    "plt.show()\n",
    "# print out file name, time, and data\n",
    "# TODO - write a .csv file with columns in the in the correct order for Photoscan"
   ]
  },
  {
   "cell_type": "code",
   "execution_count": null,
   "metadata": {
    "collapsed": true
   },
   "outputs": [],
   "source": []
  }
 ],
 "metadata": {
  "kernelspec": {
   "display_name": "Python [conda env:IOOS3]",
   "language": "python",
   "name": "conda-env-IOOS3-py"
  },
  "language_info": {
   "codemirror_mode": {
    "name": "ipython",
    "version": 3
   },
   "file_extension": ".py",
   "mimetype": "text/x-python",
   "name": "python",
   "nbconvert_exporter": "python",
   "pygments_lexer": "ipython3",
   "version": "3.6.1"
  }
 },
 "nbformat": 4,
 "nbformat_minor": 2
}
